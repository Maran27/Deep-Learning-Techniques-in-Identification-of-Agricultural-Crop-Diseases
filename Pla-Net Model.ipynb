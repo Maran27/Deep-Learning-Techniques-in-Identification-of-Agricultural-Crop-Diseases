{
 "cells": [
  {
   "cell_type": "markdown",
   "metadata": {
    "id": "3DR-eO17geWu"
   },
   "source": [
    "# Pla-Net Model"
   ]
  },
  {
   "cell_type": "markdown",
   "metadata": {
    "id": "EMefrVPCg-60"
   },
   "source": [
    "### Importing the libraries"
   ]
  },
  {
   "cell_type": "code",
   "execution_count": 1,
   "metadata": {
    "id": "yRgoxURgKdJl"
   },
   "outputs": [],
   "source": [
    "import tensorflow as tf\n",
    "from keras.preprocessing.image import ImageDataGenerator"
   ]
  },
  {
   "cell_type": "code",
   "execution_count": 2,
   "metadata": {
    "colab": {
     "base_uri": "https://localhost:8080/",
     "height": 36
    },
    "id": "Maw83yAUMB_o",
    "outputId": "119b8447-d725-41b2-9880-5b923b5e1e32"
   },
   "outputs": [
    {
     "data": {
      "text/plain": [
       "'2.3.1'"
      ]
     },
     "execution_count": 2,
     "metadata": {},
     "output_type": "execute_result"
    }
   ],
   "source": [
    "tf.__version__"
   ]
  },
  {
   "cell_type": "markdown",
   "metadata": {
    "id": "oxQxCBWyoGPE"
   },
   "source": [
    "## Part 1 - Data Preprocessing"
   ]
  },
  {
   "cell_type": "markdown",
   "metadata": {
    "id": "MvE-heJNo3GG"
   },
   "source": [
    "### Preprocessing the Training set"
   ]
  },
  {
   "cell_type": "code",
   "execution_count": 3,
   "metadata": {
    "id": "ejsZvOQhMVtC"
   },
   "outputs": [
    {
     "name": "stdout",
     "output_type": "stream",
     "text": [
      "Found 2723 images belonging to 2 classes.\n",
      "Found 290 images belonging to 2 classes.\n"
     ]
    }
   ],
   "source": [
    "train_datagen = ImageDataGenerator(\n",
    "        rescale=1./255,\n",
    "        shear_range=0.2,\n",
    "        zoom_range=0.2,\n",
    "        horizontal_flip=True)\n",
    "training_set = train_datagen.flow_from_directory(\n",
    "        'dataset/training_set',\n",
    "        target_size=(64, 64),\n",
    "        batch_size=32,\n",
    "        class_mode='binary')\n",
    "validation_set = train_datagen.flow_from_directory(\n",
    "        'dataset/validation_set',\n",
    "        target_size=(64, 64),\n",
    "        batch_size=32,\n",
    "        class_mode='binary')"
   ]
  },
  {
   "cell_type": "markdown",
   "metadata": {
    "id": "mrCMmGw9pHys"
   },
   "source": [
    "### Preprocessing the Test set"
   ]
  },
  {
   "cell_type": "code",
   "execution_count": 4,
   "metadata": {
    "id": "Ub1kIQf6PpCF"
   },
   "outputs": [
    {
     "name": "stdout",
     "output_type": "stream",
     "text": [
      "Found 1060 images belonging to 2 classes.\n"
     ]
    }
   ],
   "source": [
    "test_datagen = ImageDataGenerator(rescale=1./255)\n",
    "test_set = test_datagen.flow_from_directory(\n",
    "        'dataset/test_set',\n",
    "        target_size=(64, 64),\n",
    "        batch_size=2,\n",
    "        class_mode='binary')"
   ]
  },
  {
   "cell_type": "code",
   "execution_count": 49,
   "metadata": {},
   "outputs": [
    {
     "data": {
      "text/plain": [
       "(2, 64, 64, 3)"
      ]
     },
     "execution_count": 49,
     "metadata": {},
     "output_type": "execute_result"
    }
   ],
   "source": [
    "x,y = test_set.next()\n",
    "x.shape"
   ]
  },
  {
   "cell_type": "markdown",
   "metadata": {
    "id": "af8O4l90gk7B"
   },
   "source": [
    "## Part 2 - Building the CNN"
   ]
  },
  {
   "cell_type": "code",
   "execution_count": 50,
   "metadata": {
    "id": "6B35KJpFRGdA"
   },
   "outputs": [],
   "source": [
    "model = tf.keras.models.Sequential()"
   ]
  },
  {
   "cell_type": "code",
   "execution_count": 51,
   "metadata": {
    "id": "O-PahrwnSIcx"
   },
   "outputs": [],
   "source": [
    "model.add(tf.keras.layers.Conv2D(filters=16, kernel_size=3, activation='relu', input_shape=[64, 64, 3]))\n",
    "model.add(tf.keras.layers.Conv2D(filters=32, kernel_size=3, activation='relu'))"
   ]
  },
  {
   "cell_type": "code",
   "execution_count": 52,
   "metadata": {
    "id": "m35FtkK-Te1z"
   },
   "outputs": [],
   "source": [
    "model.add(tf.keras.layers.MaxPool2D(pool_size=2, strides=2, padding='valid'))\n",
    "model.add(tf.keras.layers.Dropout(0.25))"
   ]
  },
  {
   "cell_type": "code",
   "execution_count": 53,
   "metadata": {
    "id": "vxIK388iVBAw",
    "scrolled": true
   },
   "outputs": [],
   "source": [
    "model.add(tf.keras.layers.Conv2D(filters=64, kernel_size=3, activation='relu'))\n",
    "model.add(tf.keras.layers.Conv2D(filters=128, kernel_size=3, activation='relu'))\n",
    "model.add(tf.keras.layers.MaxPool2D(pool_size=2, strides=2, padding='valid'))"
   ]
  },
  {
   "cell_type": "code",
   "execution_count": 54,
   "metadata": {},
   "outputs": [],
   "source": [
    "model.add(tf.keras.layers.Conv2D(filters=256, kernel_size=3, activation='relu'))\n",
    "model.add(tf.keras.layers.MaxPool2D(pool_size=2, strides=2, padding='valid'))"
   ]
  },
  {
   "cell_type": "code",
   "execution_count": 55,
   "metadata": {},
   "outputs": [],
   "source": [
    "model.add(tf.keras.layers.Dropout(0.5))"
   ]
  },
  {
   "cell_type": "code",
   "execution_count": 56,
   "metadata": {
    "id": "duAiSS9WVvZ6"
   },
   "outputs": [],
   "source": [
    "model.add(tf.keras.layers.Flatten())"
   ]
  },
  {
   "cell_type": "code",
   "execution_count": 57,
   "metadata": {
    "id": "u6bZVTyOWLkx"
   },
   "outputs": [],
   "source": [
    "model.add(tf.keras.layers.Dense(units = 128, activation='relu'))"
   ]
  },
  {
   "cell_type": "code",
   "execution_count": 58,
   "metadata": {
    "id": "YWvpkkDrXI8l"
   },
   "outputs": [],
   "source": [
    "model.add(tf.keras.layers.Dense(units = 1, activation='sigmoid'))"
   ]
  },
  {
   "cell_type": "code",
   "execution_count": 59,
   "metadata": {},
   "outputs": [
    {
     "name": "stdout",
     "output_type": "stream",
     "text": [
      "Model: \"sequential_1\"\n",
      "_________________________________________________________________\n",
      "Layer (type)                 Output Shape              Param #   \n",
      "=================================================================\n",
      "conv2d_5 (Conv2D)            (None, 62, 62, 16)        448       \n",
      "_________________________________________________________________\n",
      "conv2d_6 (Conv2D)            (None, 60, 60, 32)        4640      \n",
      "_________________________________________________________________\n",
      "max_pooling2d_3 (MaxPooling2 (None, 30, 30, 32)        0         \n",
      "_________________________________________________________________\n",
      "dropout_2 (Dropout)          (None, 30, 30, 32)        0         \n",
      "_________________________________________________________________\n",
      "conv2d_7 (Conv2D)            (None, 28, 28, 64)        18496     \n",
      "_________________________________________________________________\n",
      "conv2d_8 (Conv2D)            (None, 26, 26, 128)       73856     \n",
      "_________________________________________________________________\n",
      "max_pooling2d_4 (MaxPooling2 (None, 13, 13, 128)       0         \n",
      "_________________________________________________________________\n",
      "conv2d_9 (Conv2D)            (None, 11, 11, 256)       295168    \n",
      "_________________________________________________________________\n",
      "max_pooling2d_5 (MaxPooling2 (None, 5, 5, 256)         0         \n",
      "_________________________________________________________________\n",
      "dropout_3 (Dropout)          (None, 5, 5, 256)         0         \n",
      "_________________________________________________________________\n",
      "flatten_1 (Flatten)          (None, 6400)              0         \n",
      "_________________________________________________________________\n",
      "dense_2 (Dense)              (None, 128)               819328    \n",
      "_________________________________________________________________\n",
      "dense_3 (Dense)              (None, 1)                 129       \n",
      "=================================================================\n",
      "Total params: 1,212,065\n",
      "Trainable params: 1,212,065\n",
      "Non-trainable params: 0\n",
      "_________________________________________________________________\n"
     ]
    }
   ],
   "source": [
    "model.summary()"
   ]
  },
  {
   "cell_type": "markdown",
   "metadata": {
    "id": "D6XkI90snSDl"
   },
   "source": [
    "## Part 3 - Training the CNN"
   ]
  },
  {
   "cell_type": "markdown",
   "metadata": {
    "id": "vfrFQACEnc6i"
   },
   "source": [
    "### Compiling the CNN"
   ]
  },
  {
   "cell_type": "code",
   "execution_count": 60,
   "metadata": {
    "id": "SyJoEq1ihaVr"
   },
   "outputs": [],
   "source": [
    "model.compile(optimizer = 'adam', loss = 'binary_crossentropy', metrics = ['accuracy'])"
   ]
  },
  {
   "cell_type": "markdown",
   "metadata": {
    "id": "ehS-v3MIpX2h"
   },
   "source": [
    "### Training the CNN on the Training set and evaluating it on the Test set"
   ]
  },
  {
   "cell_type": "code",
   "execution_count": 61,
   "metadata": {
    "id": "k28dMWrgiHF1",
    "scrolled": false
   },
   "outputs": [
    {
     "name": "stdout",
     "output_type": "stream",
     "text": [
      "Epoch 1/25\n",
      "86/86 [==============================] - 30s 348ms/step - loss: 0.5314 - accuracy: 0.7029 - val_loss: 0.1701 - val_accuracy: 0.9349\n",
      "Epoch 2/25\n",
      "86/86 [==============================] - 29s 341ms/step - loss: 0.2320 - accuracy: 0.9089 - val_loss: 0.1229 - val_accuracy: 0.9575\n",
      "Epoch 3/25\n",
      "86/86 [==============================] - 29s 341ms/step - loss: 0.1354 - accuracy: 0.9456 - val_loss: 0.1033 - val_accuracy: 0.9566\n",
      "Epoch 4/25\n",
      "86/86 [==============================] - 30s 344ms/step - loss: 0.1830 - accuracy: 0.9361 - val_loss: 0.1014 - val_accuracy: 0.9613\n",
      "Epoch 5/25\n",
      "86/86 [==============================] - 30s 347ms/step - loss: 0.1005 - accuracy: 0.9611 - val_loss: 0.0504 - val_accuracy: 0.9811\n",
      "Epoch 6/25\n",
      "86/86 [==============================] - 29s 340ms/step - loss: 0.0735 - accuracy: 0.9710 - val_loss: 0.2397 - val_accuracy: 0.9434\n",
      "Epoch 7/25\n",
      "86/86 [==============================] - 30s 348ms/step - loss: 0.0689 - accuracy: 0.9802 - val_loss: 0.0320 - val_accuracy: 0.9887\n",
      "Epoch 8/25\n",
      "86/86 [==============================] - 30s 354ms/step - loss: 0.0470 - accuracy: 0.9846 - val_loss: 0.0327 - val_accuracy: 0.9877\n",
      "Epoch 9/25\n",
      "86/86 [==============================] - 29s 335ms/step - loss: 0.0345 - accuracy: 0.9879 - val_loss: 0.1996 - val_accuracy: 0.9547\n",
      "Epoch 10/25\n",
      "86/86 [==============================] - 29s 334ms/step - loss: 0.0461 - accuracy: 0.9849 - val_loss: 0.0286 - val_accuracy: 0.9934\n",
      "Epoch 11/25\n",
      "86/86 [==============================] - 29s 338ms/step - loss: 0.0361 - accuracy: 0.9871 - val_loss: 0.1455 - val_accuracy: 0.9547\n",
      "Epoch 12/25\n",
      "86/86 [==============================] - 30s 354ms/step - loss: 0.0199 - accuracy: 0.9934 - val_loss: 0.1670 - val_accuracy: 0.9670\n",
      "Epoch 13/25\n",
      "86/86 [==============================] - 29s 340ms/step - loss: 0.0328 - accuracy: 0.9893 - val_loss: 0.0222 - val_accuracy: 0.9925\n",
      "Epoch 14/25\n",
      "86/86 [==============================] - 29s 341ms/step - loss: 0.0244 - accuracy: 0.9923 - val_loss: 0.0245 - val_accuracy: 0.9934\n",
      "Epoch 15/25\n",
      "86/86 [==============================] - 31s 365ms/step - loss: 0.0165 - accuracy: 0.9938 - val_loss: 0.0452 - val_accuracy: 0.9887\n",
      "Epoch 16/25\n",
      "86/86 [==============================] - 30s 350ms/step - loss: 0.0276 - accuracy: 0.9912 - val_loss: 0.0155 - val_accuracy: 0.9943\n",
      "Epoch 17/25\n",
      "86/86 [==============================] - 29s 339ms/step - loss: 0.0220 - accuracy: 0.9923 - val_loss: 0.0147 - val_accuracy: 0.9953\n",
      "Epoch 18/25\n",
      "86/86 [==============================] - 29s 341ms/step - loss: 0.0162 - accuracy: 0.9941 - val_loss: 0.0141 - val_accuracy: 0.9934\n",
      "Epoch 19/25\n",
      "86/86 [==============================] - 29s 339ms/step - loss: 0.0320 - accuracy: 0.9912 - val_loss: 0.0124 - val_accuracy: 0.9962\n",
      "Epoch 20/25\n",
      "86/86 [==============================] - 29s 340ms/step - loss: 0.0204 - accuracy: 0.9912 - val_loss: 0.0264 - val_accuracy: 0.9915\n",
      "Epoch 21/25\n",
      "86/86 [==============================] - 30s 349ms/step - loss: 0.0111 - accuracy: 0.9971 - val_loss: 0.0125 - val_accuracy: 0.9953\n",
      "Epoch 22/25\n",
      "86/86 [==============================] - 29s 339ms/step - loss: 0.0135 - accuracy: 0.9971 - val_loss: 0.0103 - val_accuracy: 0.9962\n",
      "Epoch 23/25\n",
      "86/86 [==============================] - 30s 345ms/step - loss: 0.0160 - accuracy: 0.9956 - val_loss: 0.0702 - val_accuracy: 0.9811\n",
      "Epoch 24/25\n",
      "86/86 [==============================] - 29s 339ms/step - loss: 0.0134 - accuracy: 0.9952 - val_loss: 0.0175 - val_accuracy: 0.9934\n",
      "Epoch 25/25\n",
      "86/86 [==============================] - 31s 363ms/step - loss: 0.0087 - accuracy: 0.9974 - val_loss: 0.0116 - val_accuracy: 0.9962\n"
     ]
    }
   ],
   "source": [
    "history = model.fit(x = training_set, validation_data = test_set, epochs = 25, batch_size = 2)"
   ]
  },
  {
   "cell_type": "code",
   "execution_count": 62,
   "metadata": {},
   "outputs": [],
   "source": [
    "model.save(\"Planet.h5\")"
   ]
  },
  {
   "cell_type": "code",
   "execution_count": 69,
   "metadata": {
    "scrolled": false
   },
   "outputs": [
    {
     "data": {
      "image/png": "[encoded data removed]",
      "text/plain": [
       "<Figure size 432x288 with 1 Axes>"
      ]
     },
     "metadata": {
      "needs_background": "light"
     },
     "output_type": "display_data"
    },
    {
     "data": {
      "image/png": "[encoded data removed]",
      "text/plain": [
       "<Figure size 432x288 with 1 Axes>"
      ]
     },
     "metadata": {
      "needs_background": "light"
     },
     "output_type": "display_data"
    }
   ],
   "source": [
    "import matplotlib.pyplot as plt\n",
    "(history.history.keys())\n",
    "\n",
    "plt.plot(history.history['accuracy'])\n",
    "plt.plot(history.history['val_accuracy'])\n",
    "plt.title('pla-net model accuracy')\n",
    "plt.ylabel('accuracy')\n",
    "plt.xlabel('epoch')\n",
    "plt.legend(['train', 'validation'], loc='upper left')\n",
    "plt.show()\n",
    "\n",
    "plt.plot(history.history['loss'])\n",
    "plt.plot(history.history['val_loss'])\n",
    "plt.title('pla-net model loss')\n",
    "plt.ylabel('loss')\n",
    "plt.xlabel('epoch')\n",
    "plt.legend(['train', 'validation'], loc='upper left')\n",
    "plt.show()"
   ]
  },
  {
   "cell_type": "markdown",
   "metadata": {},
   "source": [
    "# Part-4 Evaluation Metrics"
   ]
  },
  {
   "cell_type": "code",
   "execution_count": 64,
   "metadata": {},
   "outputs": [
    {
     "data": {
      "image/png": "[encoded data removed]",
      "text/plain": [
       "<Figure size 432x288 with 2 Axes>"
      ]
     },
     "metadata": {
      "needs_background": "light"
     },
     "output_type": "display_data"
    },
    {
     "name": "stdout",
     "output_type": "stream",
     "text": [
      "test_accuracy: 81.69811320754718\n"
     ]
    }
   ],
   "source": [
    "import pandas as pd\n",
    "import seaborn as sn\n",
    "import tensorflow as tf\n",
    "import numpy as np\n",
    "\n",
    "\n",
    "model = tf.keras.models.load_model(\"planet.h5\")\n",
    "filenames = test_set.filenames\n",
    "nb_samples = len(test_set)\n",
    "y_prob=[]\n",
    "y_act=[]\n",
    "test_set.reset()\n",
    "for _ in range(nb_samples):\n",
    "    X_test,Y_test = test_set.next()\n",
    "    y_prob.append(model.predict(X_test))\n",
    "    y_act.append(Y_test)\n",
    "    \n",
    "predicted_class = [list(training_set.class_indices.keys())[i.argmax()] for i in y_prob]\n",
    "actual_class = [list(training_set.class_indices.keys())[i.argmax()] for i in y_act]\n",
    "\n",
    "out_df =pd.DataFrame(np.vstack([predicted_class,actual_class]).T,columns=['predicted_class','actual_class'])\n",
    "confusion_matrix = pd.crosstab(out_df['actual_class'],out_df['predicted_class'],rownames=['Actual'], colnames=['Predicted'])\n",
    "\n",
    "sn.heatmap(confusion_matrix, cmap='Blues', annot=True,fmt='d')\n",
    "plt.show()\n",
    "print('test_accuracy: {}'.format((np.diagonal(confusion_matrix).sum()/confusion_matrix.sum().sum()*100)))"
   ]
  },
  {
   "cell_type": "code",
   "execution_count": 68,
   "metadata": {},
   "outputs": [
    {
     "name": "stdout",
     "output_type": "stream",
     "text": [
      "ACCURACY: 0.8169811320754717\n",
      "PRECISION: 0.7531806615776081\n",
      "RECALL: 1.0\n",
      "F1: 0.8592162554426704\n",
      "CONFUSION MATRIX: \n",
      "[[296  97]\n",
      " [  0 137]]\n"
     ]
    }
   ],
   "source": [
    "from sklearn.metrics import precision_score\n",
    "from sklearn.metrics import recall_score\n",
    "from sklearn.metrics import f1_score\n",
    "from sklearn.metrics import confusion_matrix\n",
    "from sklearn.metrics import accuracy_score\n",
    "accuracy = accuracy_score(predicted_class, actual_class)\n",
    "print(\"ACCURACY: \"+str(accuracy))\n",
    "precision = precision_score(predicted_class, actual_class, pos_label = \"healthy\")\n",
    "print(\"PRECISION: \"+str(precision))\n",
    "recall = recall_score(predicted_class, actual_class, pos_label = \"healthy\")\n",
    "print(\"RECALL: \"+str(recall))\n",
    "f1 = f1_score(predicted_class, actual_class, pos_label = \"healthy\")\n",
    "print(\"F1: \"+str(f1))\n",
    "matrix = confusion_matrix(actual_class, predicted_class)\n",
    "print(\"CONFUSION MATRIX: \")\n",
    "print(matrix)"
   ]
  },
  {
   "cell_type": "markdown",
   "metadata": {
    "id": "U3PZasO0006Z"
   },
   "source": [
    "## Part 5 - Making a single prediction"
   ]
  },
  {
   "cell_type": "code",
   "execution_count": 66,
   "metadata": {
    "id": "oi_m7Aski97Q"
   },
   "outputs": [],
   "source": [
    "import numpy as np\n",
    "from keras.preprocessing import image\n",
    "test_image = image.load_img('dataset/single_prediction/check_3.jpg', target_size = (64, 64))\n",
    "test_image = image.img_to_array(test_image)\n",
    "test_image = np.expand_dims(test_image, axis = 0)\n",
    "result = model.predict(test_image)\n",
    "training_set.class_indices\n",
    "if result[0][0] == 1:\n",
    "  prediction = 'unhealthy'\n",
    "else:\n",
    "  prediction = 'healthy'"
   ]
  },
  {
   "cell_type": "code",
   "execution_count": 67,
   "metadata": {
    "id": "2n9SzNJ9m6az",
    "scrolled": false
   },
   "outputs": [
    {
     "name": "stdout",
     "output_type": "stream",
     "text": [
      "unhealthy\n"
     ]
    }
   ],
   "source": [
    "print(prediction)"
   ]
  },
  {
   "cell_type": "code",
   "execution_count": null,
   "metadata": {},
   "outputs": [],
   "source": []
  }
 ],
 "metadata": {
  "colab": {
   "collapsed_sections": [],
   "name": "convolutional_neural_network.ipynb",
   "provenance": []
  },
  "kernelspec": {
   "display_name": "Python 3",
   "language": "python",
   "name": "python3"
  },
  "language_info": {
   "codemirror_mode": {
    "name": "ipython",
    "version": 3
   },
   "file_extension": ".py",
   "mimetype": "text/x-python",
   "name": "python",
   "nbconvert_exporter": "python",
   "pygments_lexer": "ipython3",
   "version": "3.7.6"
  }
 },
 "nbformat": 4,
 "nbformat_minor": 1
}
