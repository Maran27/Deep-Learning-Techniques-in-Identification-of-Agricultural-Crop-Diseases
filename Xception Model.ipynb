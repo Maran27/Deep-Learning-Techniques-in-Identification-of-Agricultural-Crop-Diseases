{
 "cells": [
  {
   "cell_type": "markdown",
   "metadata": {},
   "source": [
    "# Xception Model"
   ]
  },
  {
   "cell_type": "markdown",
   "metadata": {},
   "source": [
    "## Part-1 Data Preprocessing"
   ]
  },
  {
   "cell_type": "code",
   "execution_count": 2,
   "metadata": {},
   "outputs": [],
   "source": [
    "import tensorflow as tf\n",
    "from keras.preprocessing.image import ImageDataGenerator"
   ]
  },
  {
   "cell_type": "code",
   "execution_count": 3,
   "metadata": {},
   "outputs": [
    {
     "data": {
      "text/plain": [
       "'2.3.1'"
      ]
     },
     "execution_count": 3,
     "metadata": {},
     "output_type": "execute_result"
    }
   ],
   "source": [
    "tf.__version__"
   ]
  },
  {
   "cell_type": "code",
   "execution_count": 4,
   "metadata": {},
   "outputs": [
    {
     "name": "stdout",
     "output_type": "stream",
     "text": [
      "Found 3013 images belonging to 2 classes.\n"
     ]
    }
   ],
   "source": [
    "train_datagen = ImageDataGenerator(\n",
    "        rescale=1./255,\n",
    "        shear_range=0.2,\n",
    "        zoom_range=0.2,\n",
    "        horizontal_flip=True)\n",
    "training_set = train_datagen.flow_from_directory(\n",
    "        'dataset/training_set',\n",
    "        target_size=(64, 64),\n",
    "        batch_size=32,\n",
    "        class_mode='binary')\n",
    "validation_set = train_datagen.flow_from_directory(\n",
    "        'dataset/validation_set',\n",
    "        target_size=(64, 64),\n",
    "        batch_size=32,\n",
    "        class_mode='binary')"
   ]
  },
  {
   "cell_type": "code",
   "execution_count": 5,
   "metadata": {},
   "outputs": [
    {
     "name": "stdout",
     "output_type": "stream",
     "text": [
      "Found 1060 images belonging to 2 classes.\n"
     ]
    }
   ],
   "source": [
    "test_datagen = ImageDataGenerator(rescale=1./255)\n",
    "test_set = test_datagen.flow_from_directory(\n",
    "        'dataset/test_set',\n",
    "        target_size=(64, 64),\n",
    "        batch_size=32,\n",
    "        class_mode='binary')"
   ]
  },
  {
   "cell_type": "code",
   "execution_count": null,
   "metadata": {},
   "outputs": [],
   "source": [
    "x,y = test_set.next()\n",
    "x.shape"
   ]
  },
  {
   "cell_type": "markdown",
   "metadata": {},
   "source": [
    "## Part-2 Building the Model"
   ]
  },
  {
   "cell_type": "code",
   "execution_count": 6,
   "metadata": {},
   "outputs": [],
   "source": [
    "model = tf.keras.models.Sequential()"
   ]
  },
  {
   "cell_type": "code",
   "execution_count": 7,
   "metadata": {},
   "outputs": [],
   "source": [
    "model.add(tf.keras.applications.Xception(include_top=False,\n",
    "    weights=\"imagenet\",\n",
    "    input_tensor=None,\n",
    "    input_shape=None,\n",
    "    pooling=None,\n",
    "    classes=1000,\n",
    "    classifier_activation=\"softmax\",))"
   ]
  },
  {
   "cell_type": "code",
   "execution_count": 8,
   "metadata": {},
   "outputs": [],
   "source": [
    "model.add(tf.keras.layers.Dense(units = 1, activation='sigmoid'))"
   ]
  },
  {
   "cell_type": "code",
   "execution_count": 14,
   "metadata": {},
   "outputs": [
    {
     "name": "stdout",
     "output_type": "stream",
     "text": [
      "Model: \"sequential\"\n",
      "_________________________________________________________________\n",
      "Layer (type)                 Output Shape              Param #   \n",
      "=================================================================\n",
      "xception (Functional)        (None, 1000)              22910480  \n",
      "_________________________________________________________________\n",
      "dense (Dense)                (None, 1)                 1001      \n",
      "=================================================================\n",
      "Total params: 22,911,481\n",
      "Trainable params: 22,856,953\n",
      "Non-trainable params: 54,528\n",
      "_________________________________________________________________\n"
     ]
    }
   ],
   "source": [
    "model.summary()"
   ]
  },
  {
   "cell_type": "markdown",
   "metadata": {},
   "source": [
    "## Part-3 Training the Model"
   ]
  },
  {
   "cell_type": "code",
   "execution_count": 10,
   "metadata": {},
   "outputs": [],
   "source": [
    "model.compile(optimizer = 'adam', loss = 'binary_crossentropy', metrics = ['accuracy'])"
   ]
  },
  {
   "cell_type": "code",
   "execution_count": 11,
   "metadata": {},
   "outputs": [
    {
     "name": "stdout",
     "output_type": "stream",
     "text": [
      "Epoch 1/25\n",
      "95/95 [==============================] - 199s 2s/step - loss: 0.6643 - accuracy: 0.7424 - val_loss: 0.6739 - val_accuracy: 0.6377\n",
      "Epoch 2/25\n",
      "95/95 [==============================] - 181s 2s/step - loss: 0.6233 - accuracy: 0.8915 - val_loss: 0.6166 - val_accuracy: 0.8594\n",
      "Epoch 3/25\n",
      "95/95 [==============================] - 185s 2s/step - loss: 0.5784 - accuracy: 0.9154 - val_loss: 0.5196 - val_accuracy: 0.9670\n",
      "Epoch 4/25\n",
      "95/95 [==============================] - 184s 2s/step - loss: 0.5062 - accuracy: 0.9290 - val_loss: 0.4537 - val_accuracy: 0.9642\n",
      "Epoch 5/25\n",
      "95/95 [==============================] - 180s 2s/step - loss: 0.4428 - accuracy: 0.9545 - val_loss: 0.4000 - val_accuracy: 0.9858\n",
      "Epoch 6/25\n",
      "95/95 [==============================] - 193s 2s/step - loss: 0.4168 - accuracy: 0.9363 - val_loss: 0.3849 - val_accuracy: 0.9736\n",
      "Epoch 7/25\n",
      "95/95 [==============================] - 179s 2s/step - loss: 0.3739 - accuracy: 0.9665 - val_loss: 0.4207 - val_accuracy: 0.9321\n",
      "Epoch 8/25\n",
      "95/95 [==============================] - 179s 2s/step - loss: 0.3431 - accuracy: 0.9748 - val_loss: 0.3246 - val_accuracy: 0.9811\n",
      "Epoch 9/25\n",
      "95/95 [==============================] - 177s 2s/step - loss: 0.3259 - accuracy: 0.9698 - val_loss: 0.3068 - val_accuracy: 0.9821\n",
      "Epoch 10/25\n",
      "95/95 [==============================] - 180s 2s/step - loss: 0.3343 - accuracy: 0.9446 - val_loss: 0.3195 - val_accuracy: 0.9557\n",
      "Epoch 11/25\n",
      "95/95 [==============================] - 178s 2s/step - loss: 0.2844 - accuracy: 0.9784 - val_loss: 0.3226 - val_accuracy: 0.9406\n",
      "Epoch 12/25\n",
      "95/95 [==============================] - 177s 2s/step - loss: 0.2571 - accuracy: 0.9864 - val_loss: 0.2529 - val_accuracy: 0.9830\n",
      "Epoch 13/25\n",
      "95/95 [==============================] - 177s 2s/step - loss: 0.2413 - accuracy: 0.9861 - val_loss: 0.2432 - val_accuracy: 0.9774\n",
      "Epoch 14/25\n",
      "95/95 [==============================] - 191s 2s/step - loss: 0.2403 - accuracy: 0.9774 - val_loss: 0.2190 - val_accuracy: 0.9925\n",
      "Epoch 15/25\n",
      "95/95 [==============================] - 185s 2s/step - loss: 0.2157 - accuracy: 0.9874 - val_loss: 0.2103 - val_accuracy: 0.9877\n",
      "Epoch 16/25\n",
      "95/95 [==============================] - 180s 2s/step - loss: 0.1961 - accuracy: 0.9920 - val_loss: 0.1903 - val_accuracy: 0.9925\n",
      "Epoch 17/25\n",
      "95/95 [==============================] - 177s 2s/step - loss: 0.1940 - accuracy: 0.9877 - val_loss: 0.1759 - val_accuracy: 0.9953\n",
      "Epoch 18/25\n",
      "95/95 [==============================] - 176s 2s/step - loss: 0.1859 - accuracy: 0.9874 - val_loss: 0.1716 - val_accuracy: 0.9934\n",
      "Epoch 19/25\n",
      "95/95 [==============================] - 177s 2s/step - loss: 0.1705 - accuracy: 0.9900 - val_loss: 0.1625 - val_accuracy: 0.9943\n",
      "Epoch 20/25\n",
      "95/95 [==============================] - 176s 2s/step - loss: 0.1537 - accuracy: 0.9947 - val_loss: 0.1458 - val_accuracy: 0.9981\n",
      "Epoch 21/25\n",
      "95/95 [==============================] - 176s 2s/step - loss: 0.1472 - accuracy: 0.9944 - val_loss: 0.1374 - val_accuracy: 0.9981\n",
      "Epoch 22/25\n",
      "95/95 [==============================] - 176s 2s/step - loss: 0.1557 - accuracy: 0.9854 - val_loss: 0.2427 - val_accuracy: 0.9406\n",
      "Epoch 23/25\n",
      "95/95 [==============================] - 176s 2s/step - loss: 0.1425 - accuracy: 0.9904 - val_loss: 0.1350 - val_accuracy: 0.9962\n",
      "Epoch 24/25\n",
      "95/95 [==============================] - 177s 2s/step - loss: 0.1246 - accuracy: 0.9944 - val_loss: 0.1159 - val_accuracy: 1.0000\n",
      "Epoch 25/25\n",
      "95/95 [==============================] - 178s 2s/step - loss: 0.1202 - accuracy: 0.9960 - val_loss: 0.1181 - val_accuracy: 0.9925\n"
     ]
    },
    {
     "data": {
      "text/plain": [
       "<tensorflow.python.keras.callbacks.History at 0x2186a5bd908>"
      ]
     },
     "execution_count": 11,
     "metadata": {},
     "output_type": "execute_result"
    }
   ],
   "source": [
    "model.fit(x = training_set, validation_data = test_set, epochs = 25)"
   ]
  },
  {
   "cell_type": "code",
   "execution_count": null,
   "metadata": {},
   "outputs": [],
   "source": []
  },
  {
   "cell_type": "code",
   "execution_count": null,
   "metadata": {},
   "outputs": [],
   "source": [
    "import matplotlib.pyplot as plt\n",
    "(history.history.keys())\n",
    "\n",
    "plt.plot(history.history['accuracy'])\n",
    "plt.plot(history.history['val_accuracy'])\n",
    "plt.title('model accuracy')\n",
    "plt.ylabel('accuracy')\n",
    "plt.xlabel('epoch')\n",
    "plt.legend(['train', 'test'], loc='upper left')\n",
    "plt.show()\n",
    "\n",
    "plt.plot(history.history['loss'])\n",
    "plt.plot(history.history['val_loss'])\n",
    "plt.title('model loss')\n",
    "plt.ylabel('loss')\n",
    "plt.xlabel('epoch')\n",
    "plt.legend(['train', 'test'], loc='upper left')\n",
    "plt.show()"
   ]
  },
  {
   "cell_type": "code",
   "execution_count": null,
   "metadata": {},
   "outputs": [],
   "source": [
    "test_loss, test_acc = model.evaluate(test_set, verbose=2)\n",
    "print('\\nTest Accuracy: ', test_acc)"
   ]
  },
  {
   "cell_type": "code",
   "execution_count": null,
   "metadata": {},
   "outputs": [],
   "source": [
    "import pandas as pd\n",
    "import seaborn as sn\n",
    "import tensorflow as tf\n",
    "\n",
    "model = tf.keras.models.load_model(\"planet.h5\")\n",
    "filenames = test_set.filenames\n",
    "nb_samples = len(test_set)\n",
    "y_prob=[]\n",
    "y_act=[]\n",
    "test_set.reset()\n",
    "for _ in range(nb_samples):\n",
    "    X_test,Y_test = test_set.next()\n",
    "    y_prob.append(model.predict(X_test))\n",
    "    y_act.append(Y_test)\n",
    "    \n",
    "predicted_class = [list(training_set.class_indices.keys())[i.argmax()] for i in y_prob]\n",
    "actual_class = [list(training_set.class_indices.keys())[i.argmax()] for i in y_act]\n",
    "\n",
    "out_df =pd.DataFrame(np.vstack([predicted_class,actual_class]).T,columns=['predicted_class','actual_class'])\n",
    "confusion_matrix = pd.crosstab(out_df['actual_class'],out_df['predicted_class'],rownames=['Actual'], colnames=['Predicted'])\n",
    "\n",
    "sn.heatmap(confusion_matrix, cmap='Blues', annot=True,fmt='d')\n",
    "plt.show()\n",
    "print('test_accuracy: {}'.format((np.diagonal(confusion_matrix).sum()/confusion_matrix.sum().sum()*100)))"
   ]
  },
  {
   "cell_type": "markdown",
   "metadata": {},
   "source": [
    "## Part-4 Single Prediction"
   ]
  },
  {
   "cell_type": "code",
   "execution_count": 12,
   "metadata": {},
   "outputs": [],
   "source": [
    "import numpy as np\n",
    "from keras.preprocessing import image\n",
    "test_image = image.load_img('dataset/single_prediction/check_2.jpg', target_size = (299, 299, 3))\n",
    "test_image = image.img_to_array(test_image)\n",
    "test_image = np.expand_dims(test_image, axis = 0)\n",
    "result = model.predict(test_image)\n",
    "training_set.class_indices\n",
    "if result[0][0] == 1:\n",
    "  prediction = 'healthy'\n",
    "else:\n",
    "  prediction = 'unhealthy'"
   ]
  },
  {
   "cell_type": "code",
   "execution_count": 13,
   "metadata": {},
   "outputs": [
    {
     "name": "stdout",
     "output_type": "stream",
     "text": [
      "unhealthy\n"
     ]
    }
   ],
   "source": [
    "print(prediction)"
   ]
  },
  {
   "cell_type": "code",
   "execution_count": null,
   "metadata": {},
   "outputs": [],
   "source": [
    "\n"
   ]
  }
 ],
 "metadata": {
  "kernelspec": {
   "display_name": "Python 3",
   "language": "python",
   "name": "python3"
  },
  "language_info": {
   "codemirror_mode": {
    "name": "ipython",
    "version": 3
   },
   "file_extension": ".py",
   "mimetype": "text/x-python",
   "name": "python",
   "nbconvert_exporter": "python",
   "pygments_lexer": "ipython3",
   "version": "3.7.6"
  }
 },
 "nbformat": 4,
 "nbformat_minor": 4
}
